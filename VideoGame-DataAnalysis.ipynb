{
 "cells": [
  {
   "cell_type": "markdown",
   "metadata": {},
   "source": [
    "### About\n",
    "\n",
    "This is a project I made for school. There are markdown cells explaining the goals and reasoning for certain decisions I made along the way. Skills used in this project includes **data cleaning** and **data visualization**."
   ]
  },
  {
   "cell_type": "code",
   "execution_count": null,
   "metadata": {},
   "outputs": [],
   "source": [
    "#Imports here\n",
    "import pandas as pd\n",
    "import numpy as np\n",
    "import seaborn as sns\n",
    "import matplotlib.pyplot as plt"
   ]
  },
  {
   "cell_type": "markdown",
   "metadata": {},
   "source": [
    "## 1. Introduction"
   ]
  },
  {
   "cell_type": "markdown",
   "metadata": {},
   "source": [
    "### Research Question\n",
    "\n",
    "How does the relationship between `Review Score` and `Sales` change based on different values of `Genre` in the dataset?"
   ]
  },
  {
   "cell_type": "markdown",
   "metadata": {},
   "source": [
    "### Research Motivation\n",
    "\n",
    "Exploring the relationship between review scores and sales among different genres of video games can reveal interesting conclusions. Through data science, we could find out how much the quality of a videogame matters to generate sales in certain genres. For example, do consumers of sports videogames care as much about the quality of gameplay as much as consumers of strategy videogames? This knowledge may be useful to developers when considering the costs of making a videogame. If the game they are making is of a genre that will sell similarly regardless of quality, perhaps they may not put as much effort or money into the development."
   ]
  },
  {
   "cell_type": "markdown",
   "metadata": {},
   "source": [
    "## 2. Dataset Discussion"
   ]
  },
  {
   "cell_type": "markdown",
   "metadata": {},
   "source": [
    "### Dataset Display\n"
   ]
  },
  {
   "cell_type": "code",
   "execution_count": null,
   "metadata": {},
   "outputs": [
    {
     "data": {
      "text/html": [
       "<div>\n",
       "<style scoped>\n",
       "    .dataframe tbody tr th:only-of-type {\n",
       "        vertical-align: middle;\n",
       "    }\n",
       "\n",
       "    .dataframe tbody tr th {\n",
       "        vertical-align: top;\n",
       "    }\n",
       "\n",
       "    .dataframe thead th {\n",
       "        text-align: right;\n",
       "    }\n",
       "</style>\n",
       "<table border=\"1\" class=\"dataframe\">\n",
       "  <thead>\n",
       "    <tr style=\"text-align: right;\">\n",
       "      <th></th>\n",
       "      <th>Title</th>\n",
       "      <th>Features.Handheld?</th>\n",
       "      <th>Features.Max Players</th>\n",
       "      <th>Features.Multiplatform?</th>\n",
       "      <th>Features.Online?</th>\n",
       "      <th>Metadata.Genres</th>\n",
       "      <th>Metadata.Licensed?</th>\n",
       "      <th>Metadata.Publishers</th>\n",
       "      <th>Metadata.Sequel?</th>\n",
       "      <th>Metrics.Review Score</th>\n",
       "      <th>...</th>\n",
       "      <th>Length.Main + Extras.Average</th>\n",
       "      <th>Length.Main + Extras.Leisure</th>\n",
       "      <th>Length.Main + Extras.Median</th>\n",
       "      <th>Length.Main + Extras.Polled</th>\n",
       "      <th>Length.Main + Extras.Rushed</th>\n",
       "      <th>Length.Main Story.Average</th>\n",
       "      <th>Length.Main Story.Leisure</th>\n",
       "      <th>Length.Main Story.Median</th>\n",
       "      <th>Length.Main Story.Polled</th>\n",
       "      <th>Length.Main Story.Rushed</th>\n",
       "    </tr>\n",
       "  </thead>\n",
       "  <tbody>\n",
       "    <tr>\n",
       "      <th>0</th>\n",
       "      <td>Super Mario 64 DS</td>\n",
       "      <td>True</td>\n",
       "      <td>1</td>\n",
       "      <td>True</td>\n",
       "      <td>True</td>\n",
       "      <td>Action</td>\n",
       "      <td>True</td>\n",
       "      <td>Nintendo</td>\n",
       "      <td>True</td>\n",
       "      <td>85</td>\n",
       "      <td>...</td>\n",
       "      <td>24.916667</td>\n",
       "      <td>29.966667</td>\n",
       "      <td>25.000000</td>\n",
       "      <td>16</td>\n",
       "      <td>18.333333</td>\n",
       "      <td>14.333333</td>\n",
       "      <td>18.316667</td>\n",
       "      <td>14.500000</td>\n",
       "      <td>21</td>\n",
       "      <td>9.700000</td>\n",
       "    </tr>\n",
       "    <tr>\n",
       "      <th>1</th>\n",
       "      <td>Lumines: Puzzle Fusion</td>\n",
       "      <td>True</td>\n",
       "      <td>1</td>\n",
       "      <td>True</td>\n",
       "      <td>True</td>\n",
       "      <td>Strategy</td>\n",
       "      <td>True</td>\n",
       "      <td>Ubisoft</td>\n",
       "      <td>True</td>\n",
       "      <td>89</td>\n",
       "      <td>...</td>\n",
       "      <td>9.750000</td>\n",
       "      <td>9.866667</td>\n",
       "      <td>9.750000</td>\n",
       "      <td>2</td>\n",
       "      <td>9.616667</td>\n",
       "      <td>10.333333</td>\n",
       "      <td>11.083333</td>\n",
       "      <td>10.000000</td>\n",
       "      <td>3</td>\n",
       "      <td>9.583333</td>\n",
       "    </tr>\n",
       "    <tr>\n",
       "      <th>2</th>\n",
       "      <td>WarioWare Touched!</td>\n",
       "      <td>True</td>\n",
       "      <td>2</td>\n",
       "      <td>True</td>\n",
       "      <td>True</td>\n",
       "      <td>Action,Racing / Driving,Sports</td>\n",
       "      <td>True</td>\n",
       "      <td>Nintendo</td>\n",
       "      <td>True</td>\n",
       "      <td>81</td>\n",
       "      <td>...</td>\n",
       "      <td>3.850000</td>\n",
       "      <td>5.666667</td>\n",
       "      <td>3.333333</td>\n",
       "      <td>11</td>\n",
       "      <td>2.783333</td>\n",
       "      <td>1.916667</td>\n",
       "      <td>2.933333</td>\n",
       "      <td>1.833333</td>\n",
       "      <td>30</td>\n",
       "      <td>1.433333</td>\n",
       "    </tr>\n",
       "    <tr>\n",
       "      <th>3</th>\n",
       "      <td>Hot Shots Golf: Open Tee</td>\n",
       "      <td>True</td>\n",
       "      <td>1</td>\n",
       "      <td>True</td>\n",
       "      <td>True</td>\n",
       "      <td>Sports</td>\n",
       "      <td>True</td>\n",
       "      <td>Sony</td>\n",
       "      <td>True</td>\n",
       "      <td>81</td>\n",
       "      <td>...</td>\n",
       "      <td>0.000000</td>\n",
       "      <td>0.000000</td>\n",
       "      <td>0.000000</td>\n",
       "      <td>0</td>\n",
       "      <td>0.000000</td>\n",
       "      <td>0.000000</td>\n",
       "      <td>0.000000</td>\n",
       "      <td>0.000000</td>\n",
       "      <td>0</td>\n",
       "      <td>0.000000</td>\n",
       "    </tr>\n",
       "    <tr>\n",
       "      <th>4</th>\n",
       "      <td>Spider-Man 2</td>\n",
       "      <td>True</td>\n",
       "      <td>1</td>\n",
       "      <td>True</td>\n",
       "      <td>True</td>\n",
       "      <td>Action</td>\n",
       "      <td>True</td>\n",
       "      <td>Activision</td>\n",
       "      <td>True</td>\n",
       "      <td>61</td>\n",
       "      <td>...</td>\n",
       "      <td>12.766667</td>\n",
       "      <td>17.316667</td>\n",
       "      <td>12.500000</td>\n",
       "      <td>12</td>\n",
       "      <td>10.483333</td>\n",
       "      <td>8.350000</td>\n",
       "      <td>11.083333</td>\n",
       "      <td>8.000000</td>\n",
       "      <td>23</td>\n",
       "      <td>5.333333</td>\n",
       "    </tr>\n",
       "  </tbody>\n",
       "</table>\n",
       "<p>5 rows × 36 columns</p>\n",
       "</div>"
      ],
      "text/plain": [
       "                      Title  Features.Handheld?  Features.Max Players  \\\n",
       "0         Super Mario 64 DS                True                     1   \n",
       "1    Lumines: Puzzle Fusion                True                     1   \n",
       "2        WarioWare Touched!                True                     2   \n",
       "3  Hot Shots Golf: Open Tee                True                     1   \n",
       "4              Spider-Man 2                True                     1   \n",
       "\n",
       "   Features.Multiplatform?  Features.Online?                 Metadata.Genres  \\\n",
       "0                     True              True                          Action   \n",
       "1                     True              True                        Strategy   \n",
       "2                     True              True  Action,Racing / Driving,Sports   \n",
       "3                     True              True                          Sports   \n",
       "4                     True              True                          Action   \n",
       "\n",
       "   Metadata.Licensed? Metadata.Publishers  Metadata.Sequel?  \\\n",
       "0                True            Nintendo              True   \n",
       "1                True             Ubisoft              True   \n",
       "2                True            Nintendo              True   \n",
       "3                True                Sony              True   \n",
       "4                True          Activision              True   \n",
       "\n",
       "   Metrics.Review Score  ...  Length.Main + Extras.Average  \\\n",
       "0                    85  ...                     24.916667   \n",
       "1                    89  ...                      9.750000   \n",
       "2                    81  ...                      3.850000   \n",
       "3                    81  ...                      0.000000   \n",
       "4                    61  ...                     12.766667   \n",
       "\n",
       "   Length.Main + Extras.Leisure Length.Main + Extras.Median  \\\n",
       "0                     29.966667                   25.000000   \n",
       "1                      9.866667                    9.750000   \n",
       "2                      5.666667                    3.333333   \n",
       "3                      0.000000                    0.000000   \n",
       "4                     17.316667                   12.500000   \n",
       "\n",
       "  Length.Main + Extras.Polled  Length.Main + Extras.Rushed  \\\n",
       "0                          16                    18.333333   \n",
       "1                           2                     9.616667   \n",
       "2                          11                     2.783333   \n",
       "3                           0                     0.000000   \n",
       "4                          12                    10.483333   \n",
       "\n",
       "   Length.Main Story.Average  Length.Main Story.Leisure  \\\n",
       "0                  14.333333                  18.316667   \n",
       "1                  10.333333                  11.083333   \n",
       "2                   1.916667                   2.933333   \n",
       "3                   0.000000                   0.000000   \n",
       "4                   8.350000                  11.083333   \n",
       "\n",
       "   Length.Main Story.Median  Length.Main Story.Polled  \\\n",
       "0                 14.500000                        21   \n",
       "1                 10.000000                         3   \n",
       "2                  1.833333                        30   \n",
       "3                  0.000000                         0   \n",
       "4                  8.000000                        23   \n",
       "\n",
       "   Length.Main Story.Rushed  \n",
       "0                  9.700000  \n",
       "1                  9.583333  \n",
       "2                  1.433333  \n",
       "3                  0.000000  \n",
       "4                  5.333333  \n",
       "\n",
       "[5 rows x 36 columns]"
      ]
     },
     "execution_count": 2,
     "metadata": {},
     "output_type": "execute_result"
    }
   ],
   "source": [
    "df = pd.read_csv('video_games.csv')\n",
    "df.head()"
   ]
  },
  {
   "cell_type": "code",
   "execution_count": null,
   "metadata": {},
   "outputs": [
    {
     "data": {
      "text/plain": [
       "(1212, 36)"
      ]
     },
     "execution_count": 3,
     "metadata": {},
     "output_type": "execute_result"
    }
   ],
   "source": [
    "df.shape"
   ]
  },
  {
   "cell_type": "markdown",
   "metadata": {},
   "source": [
    "The original dataframe has 1212 rows."
   ]
  },
  {
   "cell_type": "markdown",
   "metadata": {},
   "source": [
    "### Dataset Source\n",
    "\n",
    "The dataset used for this project is the pre-selected option chose by Dr. Ellison and it was originally collected by Dr. Joe Cox. I downloaded the dataset in the zip file for this project on 2/14/2024. A link to the dataset and more information is here: https://researchportal.port.ac.uk/en/publications/what-makes-a-blockbuster-video-game-an-empirical-analysis-of-us-s."
   ]
  },
  {
   "cell_type": "markdown",
   "metadata": {},
   "source": [
    "### Original Dataset Information\n",
    "\n",
    " The data was originally collected by Dr. Joe Cox and, according to him, \"this study uses a unique data set of individual video game titles to estimate the effect of an exhaustive set of observable characteristics on the likelihood of a video game becoming a block-buster title\". There are over 1,000 observations each representing a video game title and the dataset includes many describing variables about the features, metrics, length, and metadata for each. The data is a \"snapshot of the US videogame market during September 2010\" and draws from sources such as Metacritic for reviews, Mobygames for gameplay characteristics, and VGcharts for unit sales.\n",
    " \n",
    "  The data is not included of all videogame titles as there are less popular titles that were left out. This is important when considering our research question because there could be games not included that would skew the outcome. For example, a less popular game that was given a rating by critics that does not follow our data could make us reconsider our findings or reconstruct the analysis. The three variables we will explore in this analysis are the `Review Score`, `Sales`, and `Genre` of each title. The `Review Score` based on a scale out of 100 and the `Sale` is in millions."
   ]
  },
  {
   "cell_type": "markdown",
   "metadata": {},
   "source": [
    "## 3. Dataset Cleaning"
   ]
  },
  {
   "cell_type": "markdown",
   "metadata": {},
   "source": [
    "### Missing Value Detection and Cleaning"
   ]
  },
  {
   "cell_type": "code",
   "execution_count": null,
   "metadata": {},
   "outputs": [
    {
     "data": {
      "text/html": [
       "<div>\n",
       "<style scoped>\n",
       "    .dataframe tbody tr th:only-of-type {\n",
       "        vertical-align: middle;\n",
       "    }\n",
       "\n",
       "    .dataframe tbody tr th {\n",
       "        vertical-align: top;\n",
       "    }\n",
       "\n",
       "    .dataframe thead th {\n",
       "        text-align: right;\n",
       "    }\n",
       "</style>\n",
       "<table border=\"1\" class=\"dataframe\">\n",
       "  <thead>\n",
       "    <tr style=\"text-align: right;\">\n",
       "      <th></th>\n",
       "      <th>Metrics.Review Score</th>\n",
       "      <th>Metrics.Sales</th>\n",
       "      <th>Metadata.Genres</th>\n",
       "    </tr>\n",
       "  </thead>\n",
       "  <tbody>\n",
       "    <tr>\n",
       "      <th>0</th>\n",
       "      <td>85</td>\n",
       "      <td>4.69</td>\n",
       "      <td>Action</td>\n",
       "    </tr>\n",
       "    <tr>\n",
       "      <th>1</th>\n",
       "      <td>89</td>\n",
       "      <td>0.56</td>\n",
       "      <td>Strategy</td>\n",
       "    </tr>\n",
       "    <tr>\n",
       "      <th>2</th>\n",
       "      <td>81</td>\n",
       "      <td>0.54</td>\n",
       "      <td>Action,Racing / Driving,Sports</td>\n",
       "    </tr>\n",
       "    <tr>\n",
       "      <th>3</th>\n",
       "      <td>81</td>\n",
       "      <td>0.49</td>\n",
       "      <td>Sports</td>\n",
       "    </tr>\n",
       "    <tr>\n",
       "      <th>4</th>\n",
       "      <td>61</td>\n",
       "      <td>0.45</td>\n",
       "      <td>Action</td>\n",
       "    </tr>\n",
       "  </tbody>\n",
       "</table>\n",
       "</div>"
      ],
      "text/plain": [
       "   Metrics.Review Score  Metrics.Sales                 Metadata.Genres\n",
       "0                    85           4.69                          Action\n",
       "1                    89           0.56                        Strategy\n",
       "2                    81           0.54  Action,Racing / Driving,Sports\n",
       "3                    81           0.49                          Sports\n",
       "4                    61           0.45                          Action"
      ]
     },
     "execution_count": 4,
     "metadata": {},
     "output_type": "execute_result"
    }
   ],
   "source": [
    "df = df[['Metrics.Review Score','Metrics.Sales','Metadata.Genres']]\n",
    "df.head()"
   ]
  },
  {
   "cell_type": "markdown",
   "metadata": {},
   "source": [
    "Making the dataframe only include the variables we intend to explore."
   ]
  },
  {
   "cell_type": "code",
   "execution_count": null,
   "metadata": {},
   "outputs": [
    {
     "data": {
      "text/plain": [
       "Metrics.Review Score    0\n",
       "Metrics.Sales           0\n",
       "Metadata.Genres         0\n",
       "dtype: int64"
      ]
     },
     "execution_count": 5,
     "metadata": {},
     "output_type": "execute_result"
    }
   ],
   "source": [
    "df.isna().sum()"
   ]
  },
  {
   "cell_type": "markdown",
   "metadata": {},
   "source": [
    "Checking for any explicit missing values. As we can see, there are none."
   ]
  },
  {
   "cell_type": "code",
   "execution_count": null,
   "metadata": {},
   "outputs": [
    {
     "data": {
      "text/plain": [
       "Metrics.Review Score      int64\n",
       "Metrics.Sales           float64\n",
       "Metadata.Genres          object\n",
       "dtype: object"
      ]
     },
     "execution_count": 6,
     "metadata": {},
     "output_type": "execute_result"
    }
   ],
   "source": [
    "df.dtypes"
   ]
  },
  {
   "cell_type": "markdown",
   "metadata": {},
   "source": [
    "The Review Score and Sales both being numerical data types tells us there are no implicit missing values in those columns."
   ]
  },
  {
   "cell_type": "code",
   "execution_count": null,
   "metadata": {},
   "outputs": [
    {
     "data": {
      "text/plain": [
       "array(['Action', 'Action,Adventure', 'Action,Adventure,Racing / Driving',\n",
       "       'Action,Adventure,Racing / Driving,Sports',\n",
       "       'Action,Adventure,Role-Playing (RPG)', 'Action,Adventure,Strategy',\n",
       "       'Action,Educational', 'Action,Racing / Driving',\n",
       "       'Action,Racing / Driving,Role-Playing (RPG)',\n",
       "       'Action,Racing / Driving,Role-Playing (RPG),Strategy',\n",
       "       'Action,Racing / Driving,Simulation',\n",
       "       'Action,Racing / Driving,Sports',\n",
       "       'Action,Racing / Driving,Sports,Strategy',\n",
       "       'Action,Role-Playing (RPG)',\n",
       "       'Action,Role-Playing (RPG),Simulation',\n",
       "       'Action,Role-Playing (RPG),Simulation,Sports,Strategy',\n",
       "       'Action,Role-Playing (RPG),Strategy', 'Action,Simulation',\n",
       "       'Action,Simulation,Sports', 'Action,Simulation,Strategy',\n",
       "       'Action,Sports', 'Action,Strategy', 'Adventure',\n",
       "       'Adventure,Educational,Strategy', 'Adventure,Role-Playing (RPG)',\n",
       "       'Adventure,Role-Playing (RPG),Strategy', 'Adventure,Simulation',\n",
       "       'Adventure,Simulation,Sports', 'Educational',\n",
       "       'Educational,Simulation', 'Educational,Sports',\n",
       "       'Educational,Strategy', 'Racing / Driving',\n",
       "       'Racing / Driving,Simulation',\n",
       "       'Racing / Driving,Simulation,Sports',\n",
       "       'Racing / Driving,Simulation,Strategy', 'Racing / Driving,Sports',\n",
       "       'Role-Playing (RPG)', 'Role-Playing (RPG),Simulation',\n",
       "       'Role-Playing (RPG),Simulation,Strategy',\n",
       "       'Role-Playing (RPG),Strategy', 'Simulation', 'Simulation,Sports',\n",
       "       'Simulation,Sports,Strategy', 'Simulation,Strategy', 'Sports',\n",
       "       'Sports,Strategy', 'Strategy'], dtype=object)"
      ]
     },
     "execution_count": 7,
     "metadata": {},
     "output_type": "execute_result"
    }
   ],
   "source": [
    "np.unique(df['Metadata.Genres'].values)"
   ]
  },
  {
   "cell_type": "markdown",
   "metadata": {},
   "source": [
    "By looking at the values for the genres, we can tell there are no implicit missing values. Now we know that there are no missing values in our dataframe meaning we do not have to drop any rows. The con of this technique is that it may take a while to look through all of the categorical values. However, the pro is that we have reduced the issues we would encounter in future analysis."
   ]
  },
  {
   "cell_type": "markdown",
   "metadata": {},
   "source": [
    "### Sample Size Cleaning\n",
    "\n",
    "We will only be including the genres with at least 10 observations to ensure we have a good sample size for each value."
   ]
  },
  {
   "cell_type": "code",
   "execution_count": null,
   "metadata": {},
   "outputs": [
    {
     "data": {
      "text/plain": [
       "Action                                                  476\n",
       "Sports                                                  166\n",
       "Strategy                                                 62\n",
       "Action,Role-Playing (RPG)                                55\n",
       "Racing / Driving                                         53\n",
       "Role-Playing (RPG)                                       52\n",
       "Action,Strategy                                          45\n",
       "Action,Racing / Driving                                  40\n",
       "Simulation                                               30\n",
       "Action,Simulation                                        28\n",
       "Action,Adventure                                         28\n",
       "Adventure                                                21\n",
       "Role-Playing (RPG),Strategy                              20\n",
       "Action,Sports                                            20\n",
       "Racing / Driving,Sports                                  19\n",
       "Simulation,Strategy                                      12\n",
       "Racing / Driving,Simulation,Sports                        9\n",
       "Racing / Driving,Simulation                               6\n",
       "Adventure,Simulation                                      6\n",
       "Action,Racing / Driving,Sports                            6\n",
       "Action,Simulation,Sports                                  6\n",
       "Action,Role-Playing (RPG),Strategy                        5\n",
       "Role-Playing (RPG),Simulation                             5\n",
       "Action,Adventure,Role-Playing (RPG)                       4\n",
       "Adventure,Role-Playing (RPG)                              4\n",
       "Simulation,Sports                                         3\n",
       "Action,Racing / Driving,Role-Playing (RPG)                3\n",
       "Action,Adventure,Racing / Driving                         3\n",
       "Adventure,Role-Playing (RPG),Strategy                     2\n",
       "Educational                                               2\n",
       "Action,Simulation,Strategy                                2\n",
       "Simulation,Sports,Strategy                                2\n",
       "Action,Adventure,Racing / Driving,Sports                  2\n",
       "Adventure,Simulation,Sports                               1\n",
       "Action,Role-Playing (RPG),Simulation                      1\n",
       "Action,Racing / Driving,Sports,Strategy                   1\n",
       "Action,Educational                                        1\n",
       "Racing / Driving,Simulation,Strategy                      1\n",
       "Role-Playing (RPG),Simulation,Strategy                    1\n",
       "Educational,Simulation                                    1\n",
       "Educational,Strategy                                      1\n",
       "Adventure,Educational,Strategy                            1\n",
       "Educational,Sports                                        1\n",
       "Action,Role-Playing (RPG),Simulation,Sports,Strategy      1\n",
       "Action,Racing / Driving,Role-Playing (RPG),Strategy       1\n",
       "Action,Racing / Driving,Simulation                        1\n",
       "Sports,Strategy                                           1\n",
       "Action,Adventure,Strategy                                 1\n",
       "Name: Metadata.Genres, dtype: int64"
      ]
     },
     "execution_count": 8,
     "metadata": {},
     "output_type": "execute_result"
    }
   ],
   "source": [
    "genre_counts = df['Metadata.Genres'].value_counts()\n",
    "genre_counts"
   ]
  },
  {
   "cell_type": "code",
   "execution_count": null,
   "metadata": {},
   "outputs": [
    {
     "data": {
      "text/plain": [
       "Action                         476\n",
       "Sports                         166\n",
       "Strategy                        62\n",
       "Action,Role-Playing (RPG)       55\n",
       "Racing / Driving                53\n",
       "Role-Playing (RPG)              52\n",
       "Action,Strategy                 45\n",
       "Action,Racing / Driving         40\n",
       "Simulation                      30\n",
       "Action,Simulation               28\n",
       "Action,Adventure                28\n",
       "Adventure                       21\n",
       "Role-Playing (RPG),Strategy     20\n",
       "Action,Sports                   20\n",
       "Racing / Driving,Sports         19\n",
       "Simulation,Strategy             12\n",
       "Name: Metadata.Genres, dtype: int64"
      ]
     },
     "execution_count": 9,
     "metadata": {},
     "output_type": "execute_result"
    }
   ],
   "source": [
    "top_genre_counts = genre_counts[genre_counts > 10]\n",
    "top_genre_counts"
   ]
  },
  {
   "cell_type": "code",
   "execution_count": null,
   "metadata": {},
   "outputs": [
    {
     "data": {
      "text/plain": [
       "Index(['Action', 'Sports', 'Strategy', 'Action,Role-Playing (RPG)',\n",
       "       'Racing / Driving', 'Role-Playing (RPG)', 'Action,Strategy',\n",
       "       'Action,Racing / Driving', 'Simulation', 'Action,Simulation',\n",
       "       'Action,Adventure', 'Adventure', 'Role-Playing (RPG),Strategy',\n",
       "       'Action,Sports', 'Racing / Driving,Sports', 'Simulation,Strategy'],\n",
       "      dtype='object')"
      ]
     },
     "execution_count": 10,
     "metadata": {},
     "output_type": "execute_result"
    }
   ],
   "source": [
    "top_genre = top_genre_counts.index\n",
    "top_genre"
   ]
  },
  {
   "cell_type": "code",
   "execution_count": null,
   "metadata": {},
   "outputs": [
    {
     "data": {
      "text/plain": [
       "(1127, 3)"
      ]
     },
     "execution_count": 11,
     "metadata": {},
     "output_type": "execute_result"
    }
   ],
   "source": [
    "df = df[df['Metadata.Genres'].isin(top_genre)]\n",
    "df.shape"
   ]
  },
  {
   "cell_type": "markdown",
   "metadata": {},
   "source": [
    "We dropped 85 rows."
   ]
  },
  {
   "cell_type": "markdown",
   "metadata": {},
   "source": [
    "### Outlier Cleaning - Single Variable Outlier Inspection\n",
    "\n",
    "The pros of dropping outliers is that our lines of fit will be more representative of the rest of the data which makes for a more efficient model. The cons of dropping outliers is that our model and statistics will not be representative of the full dataset."
   ]
  },
  {
   "cell_type": "code",
   "execution_count": null,
   "metadata": {},
   "outputs": [
    {
     "data": {
      "text/plain": [
       "<Axes: xlabel='Metrics.Sales'>"
      ]
     },
     "execution_count": 12,
     "metadata": {},
     "output_type": "execute_result"
    },
    {
     "data": {
      "image/png": "[encoded data removed]",
      "text/plain": [
       "<Figure size 640x480 with 1 Axes>"
      ]
     },
     "metadata": {},
     "output_type": "display_data"
    }
   ],
   "source": [
    "sns.boxplot(x = 'Metrics.Sales', data = df)"
   ]
  },
  {
   "cell_type": "markdown",
   "metadata": {},
   "source": [
    "Based on the boxplot, the sales above 9 million seem to be outliers from the other data."
   ]
  },
  {
   "cell_type": "code",
   "execution_count": null,
   "metadata": {},
   "outputs": [
    {
     "data": {
      "text/plain": [
       "(1122, 3)"
      ]
     },
     "execution_count": 13,
     "metadata": {},
     "output_type": "execute_result"
    }
   ],
   "source": [
    "df = df[df['Metrics.Sales'] < 9]\n",
    "df.shape"
   ]
  },
  {
   "cell_type": "markdown",
   "metadata": {},
   "source": [
    "We dropped 5 rows."
   ]
  },
  {
   "cell_type": "code",
   "execution_count": null,
   "metadata": {},
   "outputs": [
    {
     "data": {
      "text/plain": [
       "<Axes: xlabel='Metrics.Review Score'>"
      ]
     },
     "execution_count": 14,
     "metadata": {},
     "output_type": "execute_result"
    },
    {
     "data": {
      "image/png": "[encoded data removed]",
      "text/plain": [
       "<Figure size 640x480 with 1 Axes>"
      ]
     },
     "metadata": {},
     "output_type": "display_data"
    }
   ],
   "source": [
    "sns.boxplot(x = 'Metrics.Review Score', data = df)"
   ]
  },
  {
   "cell_type": "markdown",
   "metadata": {},
   "source": [
    "Based on the boxplot, the reviews under 22 seem to be outliers from the other data."
   ]
  },
  {
   "cell_type": "code",
   "execution_count": null,
   "metadata": {},
   "outputs": [
    {
     "data": {
      "text/plain": [
       "(1120, 3)"
      ]
     },
     "execution_count": 15,
     "metadata": {},
     "output_type": "execute_result"
    }
   ],
   "source": [
    "df = df[df['Metrics.Review Score'] > 22]\n",
    "df.shape"
   ]
  },
  {
   "cell_type": "markdown",
   "metadata": {},
   "source": [
    "We dropped 2 rows."
   ]
  },
  {
   "cell_type": "markdown",
   "metadata": {},
   "source": [
    "### Outlier Cleaning - Two Variable Outlier Inspection\n",
    "\n",
    "Once again it is important to note that the pros of dropping outliers is that our lines of fit will be more representative of the rest of the data which makes for a more efficient model. The cons of dropping outliers is that our models and statistics will not be representative of the full dataset."
   ]
  },
  {
   "cell_type": "code",
   "execution_count": null,
   "metadata": {},
   "outputs": [
    {
     "data": {
      "text/plain": [
       "<Axes: xlabel='Metrics.Review Score', ylabel='Metrics.Sales'>"
      ]
     },
     "execution_count": 16,
     "metadata": {},
     "output_type": "execute_result"
    },
    {
     "data": {
      "image/png": "[encoded data removed]",
      "text/plain": [
       "<Figure size 640x480 with 1 Axes>"
      ]
     },
     "metadata": {},
     "output_type": "display_data"
    }
   ],
   "source": [
    "sns.scatterplot(x = 'Metrics.Review Score', y = 'Metrics.Sales', data = df)"
   ]
  },
  {
   "cell_type": "markdown",
   "metadata": {},
   "source": [
    "There does not seem to be any big outliers in the scatterplot so we will not drop any rows."
   ]
  },
  {
   "cell_type": "markdown",
   "metadata": {},
   "source": [
    "### Other Data Cleaining"
   ]
  },
  {
   "cell_type": "markdown",
   "metadata": {},
   "source": [
    "To make the answer to the research question more clear, let's simplify our genres. Some of the variables included multiple genres split by a comma which could be confusing because the primary genre is not specified. The values that include 'Racing' such as `Racing / Driving` and `Racing / Driving, Sports` seem to mostly fall under the racing genre, so let's include them with the `Racing`. Other than that, removing rows with multiple genres will help make our outcomes more distinct."
   ]
  },
  {
   "cell_type": "code",
   "execution_count": null,
   "metadata": {},
   "outputs": [
    {
     "data": {
      "text/plain": [
       "(873, 3)"
      ]
     },
     "execution_count": 17,
     "metadata": {},
     "output_type": "execute_result"
    }
   ],
   "source": [
    "Racing_Genres = ['Racing / Driving', 'Racing / Driving,Sports']\n",
    "df['Metadata.Genres'] = df['Metadata.Genres'].apply(lambda x: 'Racing' if x in Racing_Genres else x)\n",
    "df['Metadata.Genres'] = df['Metadata.Genres'].apply(lambda x: np.nan if ',' in x else x)\n",
    "df = df.dropna()\n",
    "df.shape"
   ]
  },
  {
   "cell_type": "markdown",
   "metadata": {},
   "source": [
    "We dropped 247 rows."
   ]
  },
  {
   "cell_type": "markdown",
   "metadata": {},
   "source": [
    "## 4. <u>Research Question</u>\n",
    "\n"
   ]
  },
  {
   "cell_type": "markdown",
   "metadata": {},
   "source": [
    "### Research Question Statement\n",
    "\n",
    "How does the Relationship between `Review Score` and `Sales` Change based on Different Values of `Genre` in the Dataset?"
   ]
  },
  {
   "cell_type": "markdown",
   "metadata": {},
   "source": [
    "### Visualization"
   ]
  },
  {
   "cell_type": "code",
   "execution_count": null,
   "metadata": {},
   "outputs": [
    {
     "data": {
      "image/png": "[encoded data removed]",
      "text/plain": [
       "<Figure size 679.875x500 with 1 Axes>"
      ]
     },
     "metadata": {},
     "output_type": "display_data"
    }
   ],
   "source": [
    "sns.lmplot(x='Metrics.Review Score', y='Metrics.Sales', hue='Metadata.Genres', ci=False, data=df)\n",
    "plt.xticks(np.arange(0,101,step = 10))\n",
    "plt.yticks(np.arange(0,10, step = 1))\n",
    "plt.title('Review Score and Sales for different Genres')\n",
    "plt.show()"
   ]
  },
  {
   "cell_type": "markdown",
   "metadata": {},
   "source": [
    "### Summary Statistics"
   ]
  },
  {
   "cell_type": "code",
   "execution_count": null,
   "metadata": {},
   "outputs": [
    {
     "data": {
      "text/html": [
       "<div>\n",
       "<style scoped>\n",
       "    .dataframe tbody tr th:only-of-type {\n",
       "        vertical-align: middle;\n",
       "    }\n",
       "\n",
       "    .dataframe tbody tr th {\n",
       "        vertical-align: top;\n",
       "    }\n",
       "\n",
       "    .dataframe thead th {\n",
       "        text-align: right;\n",
       "    }\n",
       "</style>\n",
       "<table border=\"1\" class=\"dataframe\">\n",
       "  <thead>\n",
       "    <tr style=\"text-align: right;\">\n",
       "      <th></th>\n",
       "      <th></th>\n",
       "      <th>Metrics.Review Score</th>\n",
       "      <th>Metrics.Sales</th>\n",
       "    </tr>\n",
       "    <tr>\n",
       "      <th>Metadata.Genres</th>\n",
       "      <th></th>\n",
       "      <th></th>\n",
       "      <th></th>\n",
       "    </tr>\n",
       "  </thead>\n",
       "  <tbody>\n",
       "    <tr>\n",
       "      <th rowspan=\"2\" valign=\"top\">Action</th>\n",
       "      <th>Metrics.Review Score</th>\n",
       "      <td>1.000000</td>\n",
       "      <td>0.429508</td>\n",
       "    </tr>\n",
       "    <tr>\n",
       "      <th>Metrics.Sales</th>\n",
       "      <td>0.429508</td>\n",
       "      <td>1.000000</td>\n",
       "    </tr>\n",
       "    <tr>\n",
       "      <th rowspan=\"2\" valign=\"top\">Adventure</th>\n",
       "      <th>Metrics.Review Score</th>\n",
       "      <td>1.000000</td>\n",
       "      <td>0.228729</td>\n",
       "    </tr>\n",
       "    <tr>\n",
       "      <th>Metrics.Sales</th>\n",
       "      <td>0.228729</td>\n",
       "      <td>1.000000</td>\n",
       "    </tr>\n",
       "    <tr>\n",
       "      <th rowspan=\"2\" valign=\"top\">Racing</th>\n",
       "      <th>Metrics.Review Score</th>\n",
       "      <td>1.000000</td>\n",
       "      <td>0.410809</td>\n",
       "    </tr>\n",
       "    <tr>\n",
       "      <th>Metrics.Sales</th>\n",
       "      <td>0.410809</td>\n",
       "      <td>1.000000</td>\n",
       "    </tr>\n",
       "    <tr>\n",
       "      <th rowspan=\"2\" valign=\"top\">Role-Playing (RPG)</th>\n",
       "      <th>Metrics.Review Score</th>\n",
       "      <td>1.000000</td>\n",
       "      <td>0.352899</td>\n",
       "    </tr>\n",
       "    <tr>\n",
       "      <th>Metrics.Sales</th>\n",
       "      <td>0.352899</td>\n",
       "      <td>1.000000</td>\n",
       "    </tr>\n",
       "    <tr>\n",
       "      <th rowspan=\"2\" valign=\"top\">Simulation</th>\n",
       "      <th>Metrics.Review Score</th>\n",
       "      <td>1.000000</td>\n",
       "      <td>0.218260</td>\n",
       "    </tr>\n",
       "    <tr>\n",
       "      <th>Metrics.Sales</th>\n",
       "      <td>0.218260</td>\n",
       "      <td>1.000000</td>\n",
       "    </tr>\n",
       "    <tr>\n",
       "      <th rowspan=\"2\" valign=\"top\">Sports</th>\n",
       "      <th>Metrics.Review Score</th>\n",
       "      <td>1.000000</td>\n",
       "      <td>0.293519</td>\n",
       "    </tr>\n",
       "    <tr>\n",
       "      <th>Metrics.Sales</th>\n",
       "      <td>0.293519</td>\n",
       "      <td>1.000000</td>\n",
       "    </tr>\n",
       "    <tr>\n",
       "      <th rowspan=\"2\" valign=\"top\">Strategy</th>\n",
       "      <th>Metrics.Review Score</th>\n",
       "      <td>1.000000</td>\n",
       "      <td>0.537271</td>\n",
       "    </tr>\n",
       "    <tr>\n",
       "      <th>Metrics.Sales</th>\n",
       "      <td>0.537271</td>\n",
       "      <td>1.000000</td>\n",
       "    </tr>\n",
       "  </tbody>\n",
       "</table>\n",
       "</div>"
      ],
      "text/plain": [
       "                                         Metrics.Review Score  Metrics.Sales\n",
       "Metadata.Genres                                                             \n",
       "Action             Metrics.Review Score              1.000000       0.429508\n",
       "                   Metrics.Sales                     0.429508       1.000000\n",
       "Adventure          Metrics.Review Score              1.000000       0.228729\n",
       "                   Metrics.Sales                     0.228729       1.000000\n",
       "Racing             Metrics.Review Score              1.000000       0.410809\n",
       "                   Metrics.Sales                     0.410809       1.000000\n",
       "Role-Playing (RPG) Metrics.Review Score              1.000000       0.352899\n",
       "                   Metrics.Sales                     0.352899       1.000000\n",
       "Simulation         Metrics.Review Score              1.000000       0.218260\n",
       "                   Metrics.Sales                     0.218260       1.000000\n",
       "Sports             Metrics.Review Score              1.000000       0.293519\n",
       "                   Metrics.Sales                     0.293519       1.000000\n",
       "Strategy           Metrics.Review Score              1.000000       0.537271\n",
       "                   Metrics.Sales                     0.537271       1.000000"
      ]
     },
     "execution_count": 19,
     "metadata": {},
     "output_type": "execute_result"
    }
   ],
   "source": [
    "df.groupby(['Metadata.Genres']).corr()"
   ]
  },
  {
   "cell_type": "markdown",
   "metadata": {},
   "source": [
    "### Research Question Answer\n",
    "\n",
    "From our plot we can tell that the **direction** of the relationship between `Review Score` and `Sales` are positive among the genres. The **shape**, however has changes between different genres with some having a more linear relationship and some curving up toward high `Review Score` values. There are also changes in **strength** shown in the correlation chart where `Review Score` and `Sales` have a correlation of .537 in the `Strategy` genre and a correlation of .218 in the `Simulation` genre. **Outliers** differ among the genres shown in the plot where `RPG` and `Action` games have more points far from the majority compared to other genres. Finally, there are large **slope** changes with `RPG` having a much steeper slope than others while `Strategy` and `Adventure` are quite flat. Based on the many differences we observed, we can conclude that the relationship between `Review Score` and `Sales` does change for different values of `Genre`, more specifically, the type of genre changes the **shape**, **strength**, **outliers**, and **slope**.\n"
   ]
  },
  {
   "cell_type": "markdown",
   "metadata": {},
   "source": [
    "## 5. Conclusion"
   ]
  },
  {
   "cell_type": "markdown",
   "metadata": {},
   "source": [
    "### Summarization\n",
    "\n",
    "After evaluating our dataset, cleaning the data, and conducting data analysis, we found a change in relationship between `Review Score` and `Sales` of U.S. videogame titles for different values of `Genre`. Knowing this could help developers of a certain genre decide how they should focus on getting a specific score from critics when trying to generate sales. With our visualizations and summary statistics we evaluated exactly how the relationship differs among the different genre values. For example, a developer of an RPG game may want to direct their creation process towards the likings of a critic because it yields more sales based on the slope we found. Knowing how the direction, shape, strength, outliers, and slope changes helps us gain a greater understanding of the gaming industry."
   ]
  },
  {
   "cell_type": "markdown",
   "metadata": {},
   "source": [
    "### Shortcomings / Caveats\n",
    "\n",
    "A shortcoming of our research would be the possibility of multicollinearity between our explanatory variables which could have made our linear model plots less reliable. Another caveat for this project is our removal of data. Getting rid of rows with outliers or of certain genres means that our models and statistics did not represent the full original dataset. These caveats may make a company hesitant to incorporate our findings into their development process."
   ]
  },
  {
   "cell_type": "markdown",
   "metadata": {},
   "source": [
    "### Future Work"
   ]
  },
  {
   "cell_type": "markdown",
   "metadata": {},
   "source": [
    "Based on the observations made in the analysis, I am interested in continuing to explore this relationship even more. I would like to analyze a more recent dataset to see if our conclusions still hold true in more present times. I also would like to use machine learning to make predictions of sales of other titles. Finally, I want to limit the caveats in future research as much as possible by reducing multicollinearity and trying to find a dataset with more distinct genres."
   ]
  }
 ],
 "metadata": {
  "kernelspec": {
   "display_name": "Python 3 (ipykernel)",
   "language": "python",
   "name": "python3"
  },
  "language_info": {
   "codemirror_mode": {
    "name": "ipython",
    "version": 3
   },
   "file_extension": ".py",
   "mimetype": "text/x-python",
   "name": "python",
   "nbconvert_exporter": "python",
   "pygments_lexer": "ipython3",
   "version": "3.11.4"
  }
 },
 "nbformat": 4,
 "nbformat_minor": 4
}
